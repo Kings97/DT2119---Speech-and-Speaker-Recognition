{
 "cells": [
  {
   "cell_type": "code",
   "execution_count": 1,
   "metadata": {},
   "outputs": [],
   "source": [
    "import numpy as np"
   ]
  },
  {
   "cell_type": "code",
   "execution_count": 12,
   "metadata": {},
   "outputs": [],
   "source": [
    "# Names of files including the data\n",
    "data_file = \"lab1_data.npz\"\n",
    "debug_data_file = \"lab1_example.npz\" # File containing data used for debugging the extraction of MFCC"
   ]
  },
  {
   "cell_type": "markdown",
   "metadata": {},
   "source": [
    "##### Load datasets"
   ]
  },
  {
   "cell_type": "code",
   "execution_count": 67,
   "metadata": {},
   "outputs": [],
   "source": [
    "# Load data \n",
    "dataset = np.load(data_file)['data']\n",
    "utterances = [utterance['samples'] for utterance in dataset]\n",
    "utterance_sampling_rate = [utterance['samplingrate'] for utterance in dataset]\n",
    "digits = [utterance['digit'] for utterance in dataset]\n",
    "repetitions = [utterance['repetition'] for utterance in dataset]\n",
    "genders = [utterance['gender'] for utterance in dataset]\n",
    "speakers = [utterance['speaker'] for utterance in dataset]"
   ]
  },
  {
   "cell_type": "code",
   "execution_count": 68,
   "metadata": {},
   "outputs": [],
   "source": [
    "# Load debugging data\n",
    "debug_dataset = np.load(debug_data_file)['example'].item()\n",
    "samples = debug_dataset['samples']\n",
    "sampling_rate = debug_dataset['samplingrate']\n",
    "frames = debug_dataset['frames']\n",
    "preemph = debug_dataset['preemph']\n",
    "windowed = debug_dataset['windowed']\n",
    "spec = debug_dataset['spec']\n",
    "mspec = debug_dataset['mspec']\n",
    "mfcc = debug_dataset['mfcc']\n",
    "lmfcc = debug_dataset['lmfcc']"
   ]
  },
  {
   "cell_type": "markdown",
   "metadata": {},
   "source": [
    "### Feature extraction functions"
   ]
  },
  {
   "cell_type": "code",
   "execution_count": 47,
   "metadata": {},
   "outputs": [],
   "source": [
    "\n",
    "def mfcc(samples, winlen = 400, winshift = 200, preempcoeff=0.97, nfft=512, nceps=13, samplingrate=20000, liftercoeff=22):\n",
    "    \"\"\"Computes Mel Frequency Cepstrum Coefficients.\n",
    "\n",
    "    Args:\n",
    "        samples: array of speech samples with shape (N,)\n",
    "        winlen: lenght of the analysis window\n",
    "        winshift: number of samples to shift the analysis window at every time step\n",
    "        preempcoeff: pre-emphasis coefficient\n",
    "        nfft: length of the Fast Fourier Transform (power of 2, >= winlen)\n",
    "        nceps: number of cepstrum coefficients to compute\n",
    "        samplingrate: sampling rate of the original signal\n",
    "        liftercoeff: liftering coefficient used to equalise scale of MFCCs\n",
    "\n",
    "    Returns:\n",
    "        N x nceps array with lifetered MFCC coefficients\n",
    "    \"\"\"\n",
    "    frames = enframe(samples, winlen, winshift)\n",
    "    return None\n",
    "    #preemph = preemp(frames, preempcoeff)\n",
    "    #windowed = windowing(preemph)\n",
    "    #spec = powerSpectrum(windowed, nfft)\n",
    "    #mspec = logMelSpectrum(spec, samplingrate)\n",
    "    #ceps = cepstrum(mspec, nceps)\n",
    "    #return lifter(ceps, liftercoeff)"
   ]
  },
  {
   "cell_type": "code",
   "execution_count": 60,
   "metadata": {},
   "outputs": [],
   "source": [
    "def enframe(samples, winlen, winshift):\n",
    "    \"\"\"\n",
    "    Slices the input samples into overlapping windows.\n",
    "\n",
    "    Args:\n",
    "        winlen: window length in samples.\n",
    "        winshift: shift of consecutive windows in samples\n",
    "    Returns:\n",
    "        numpy array [N x winlen], where N is the number of windows that fit\n",
    "        in the input signal\n",
    "    \"\"\"\n",
    "    \n",
    "    return samples\n",
    "    "
   ]
  },
  {
   "cell_type": "markdown",
   "metadata": {},
   "source": [
    "### Main program"
   ]
  },
  {
   "cell_type": "code",
   "execution_count": 73,
   "metadata": {},
   "outputs": [],
   "source": [
    "#Calculate winlen and winshift based on samplingrate\n",
    "#enframed_samples = [enframe(utterance, winlen = 20 * 1e-3, winshift = 10 * 1e-3) for utterance in utterances]"
   ]
  },
  {
   "cell_type": "code",
   "execution_count": 80,
   "metadata": {},
   "outputs": [
    {
     "name": "stdout",
     "output_type": "stream",
     "text": [
      "91\n"
     ]
    }
   ],
   "source": [
    "print(len(frames))"
   ]
  },
  {
   "cell_type": "code",
   "execution_count": null,
   "metadata": {},
   "outputs": [],
   "source": []
  }
 ],
 "metadata": {
  "kernelspec": {
   "display_name": "Python 3",
   "language": "python",
   "name": "python3"
  },
  "language_info": {
   "codemirror_mode": {
    "name": "ipython",
    "version": 3
   },
   "file_extension": ".py",
   "mimetype": "text/x-python",
   "name": "python",
   "nbconvert_exporter": "python",
   "pygments_lexer": "ipython3",
   "version": "3.5.2"
  }
 },
 "nbformat": 4,
 "nbformat_minor": 2
}
